{
 "cells": [
  {
   "cell_type": "code",
   "execution_count": 1,
   "metadata": {},
   "outputs": [],
   "source": [
    "from data_loader import *\n",
    "from sklearn.feature_extraction.text import TfidfVectorizer\n",
    "from sklearn.linear_model import LogisticRegression\n",
    "from sklearn.ensemble import RandomForestClassifier\n",
    "from sklearn.tree import DecisionTreeClassifier\n",
    "from sklearn.model_selection import cross_val_score\n",
    "from scipy.sparse import hstack\n"
   ]
  },
  {
   "cell_type": "code",
   "execution_count": 2,
   "metadata": {},
   "outputs": [
    {
     "name": "stderr",
     "output_type": "stream",
     "text": [
      "/Users/caojingchen/UCI/projects/data_mining/toxic/data_loader.py:14: FutureWarning: Method .as_matrix will be removed in a future version. Use .values instead.\n",
      "  return train_df['id'].tolist(), train_df['comment_text'].tolist(), train_df.iloc[:, 2:].as_matrix(),\\\n",
      "/Users/caojingchen/UCI/projects/data_mining/toxic/data_loader.py:16: FutureWarning: Method .as_matrix will be removed in a future version. Use .values instead.\n",
      "  ), valid_df.iloc[:, 2:].as_matrix()\n",
      "/Users/caojingchen/UCI/projects/data_mining/toxic/data_loader.py:28: FutureWarning: Method .as_matrix will be removed in a future version. Use .values instead.\n",
      "  return data_frame['id'].tolist(), data_frame['comment_text'].tolist(), label_frame.iloc[:, 1:].as_matrix()\n"
     ]
    }
   ],
   "source": [
    "train = load_train_data('data/train.csv', is_df = False)\n",
    "test = load_test_data('data/test.csv', 'data/test_labels.csv', is_df = False)"
   ]
  },
  {
   "cell_type": "code",
   "execution_count": 3,
   "metadata": {},
   "outputs": [
    {
     "name": "stdout",
     "output_type": "stream",
     "text": [
      "[0 0 0 0 0 0]\n"
     ]
    }
   ],
   "source": [
    "print(test[2][2])"
   ]
  },
  {
   "cell_type": "code",
   "execution_count": 4,
   "metadata": {},
   "outputs": [],
   "source": [
    "train_text, train_class = train[1], train[2]\n",
    "val_text, val_class = train[4], train[5]\n",
    "test_text, test_class = test[1], test[2]"
   ]
  },
  {
   "cell_type": "code",
   "execution_count": 5,
   "metadata": {},
   "outputs": [],
   "source": [
    "word_vectorizer = TfidfVectorizer(\n",
    "    sublinear_tf=True,\n",
    "    strip_accents='unicode',\n",
    "    analyzer='word',\n",
    "    token_pattern=r'\\w{1,}',\n",
    "    stop_words='english',\n",
    "    ngram_range=(1, 1),\n",
    "    max_features=10000)\n",
    "word_vectorizer.fit(train_text + val_text + test_text)\n",
    "train_word_features = word_vectorizer.transform(train_text)\n",
    "val_word_features = word_vectorizer.transform(val_text)\n",
    "test_word_features = word_vectorizer.transform(test_text)"
   ]
  },
  {
   "cell_type": "code",
   "execution_count": null,
   "metadata": {},
   "outputs": [],
   "source": [
    "char_vectorizer = TfidfVectorizer(\n",
    "    sublinear_tf=True,\n",
    "    strip_accents='unicode',\n",
    "    analyzer='char',\n",
    "    stop_words='english',\n",
    "    ngram_range=(2, 6),\n",
    "    max_features=50000)\n",
    "char_vectorizer.fit(train_text + val_text + test_text)\n",
    "train_char_features = char_vectorizer.transform(train_text)\n",
    "val_char_features = char_vectorizer.transform(val_text)\n",
    "test_char_features = char_vectorizer.transform(test_text)"
   ]
  },
  {
   "cell_type": "code",
   "execution_count": 6,
   "metadata": {},
   "outputs": [],
   "source": [
    "# train_features = hstack([train_char_features, train_word_features])\n",
    "# val_features = hstack([val_char_features, val_word_features])\n",
    "# test_features = hstack([test_char_features, test_word_features])\n",
    "train_features = hstack([train_word_features])\n",
    "val_features = hstack([val_word_features])\n",
    "test_features = hstack([test_word_features])"
   ]
  },
  {
   "cell_type": "code",
   "execution_count": 7,
   "metadata": {},
   "outputs": [
    {
     "name": "stdout",
     "output_type": "stream",
     "text": [
      "(143645, 10000)\n",
      "(143645, 6)\n",
      "(63978, 10000)\n",
      "(63978, 6)\n"
     ]
    }
   ],
   "source": [
    "print(train_features.shape)\n",
    "print(train_class.shape)\n",
    "print(test_features.shape)\n",
    "print(test_class.shape)"
   ]
  },
  {
   "cell_type": "code",
   "execution_count": 18,
   "metadata": {},
   "outputs": [
    {
     "name": "stdout",
     "output_type": "stream",
     "text": [
      "0.9372127918972146\n",
      "0.9934352433649067\n",
      "0.9627059301634937\n",
      "0.9967019913095126\n",
      "0.9585326205883272\n",
      "0.9889336959579855\n"
     ]
    }
   ],
   "source": [
    "scores = []\n",
    "for col in range(len(train_class[0])):\n",
    "    train_target = train_class[:,col]\n",
    "    val_target = val_class[:,col]\n",
    "    test_target = test_class[:,col]\n",
    "    \n",
    "    lr = LogisticRegression(C=0.1, solver='sag')\n",
    "    lr.fit(train_features, train_target)\n",
    "    print(lr.score(test_features, test_target))\n",
    "#     score.append(classifier.score(test_features, test_target))\n"
   ]
  },
  {
   "cell_type": "code",
   "execution_count": null,
   "metadata": {},
   "outputs": [],
   "source": [
    "print(lr.score(test_features, test_class))\n",
    "print(lr.score(val_features, val_class))"
   ]
  },
  {
   "cell_type": "code",
   "execution_count": 8,
   "metadata": {},
   "outputs": [
    {
     "data": {
      "text/plain": [
       "DecisionTreeClassifier(class_weight=None, criterion='gini', max_depth=2000,\n",
       "            max_features=None, max_leaf_nodes=160,\n",
       "            min_impurity_decrease=0.0, min_impurity_split=None,\n",
       "            min_samples_leaf=10, min_samples_split=10,\n",
       "            min_weight_fraction_leaf=0.0, presort=False, random_state=None,\n",
       "            splitter='best')"
      ]
     },
     "execution_count": 8,
     "metadata": {},
     "output_type": "execute_result"
    }
   ],
   "source": [
    "dt = DecisionTreeClassifier(max_depth=2000, min_samples_split=10, min_samples_leaf=10, max_leaf_nodes=160)\n",
    "dt.fit(train_features, train_class)"
   ]
  },
  {
   "cell_type": "code",
   "execution_count": 11,
   "metadata": {},
   "outputs": [
    {
     "name": "stdout",
     "output_type": "stream",
     "text": [
      "0.8755040795273376\n",
      "0.9144166771317342\n"
     ]
    }
   ],
   "source": [
    "print(dt.score(test_features, test_class))\n",
    "print(dt.score(val_features, val_class))"
   ]
  },
  {
   "cell_type": "code",
   "execution_count": 12,
   "metadata": {},
   "outputs": [
    {
     "data": {
      "text/plain": [
       "RandomForestClassifier(bootstrap=True, class_weight=None, criterion='gini',\n",
       "            max_depth=2000, max_features='auto', max_leaf_nodes=150,\n",
       "            min_impurity_decrease=0.0, min_impurity_split=None,\n",
       "            min_samples_leaf=10, min_samples_split=10,\n",
       "            min_weight_fraction_leaf=0.0, n_estimators=10, n_jobs=None,\n",
       "            oob_score=False, random_state=None, verbose=0,\n",
       "            warm_start=False)"
      ]
     },
     "execution_count": 12,
     "metadata": {},
     "output_type": "execute_result"
    }
   ],
   "source": [
    "rf = RandomForestClassifier(n_estimators=10, max_depth=2000, min_samples_split=10, min_samples_leaf=10, max_leaf_nodes=150)\n",
    "rf.fit(train_features, train_class)"
   ]
  },
  {
   "cell_type": "code",
   "execution_count": 14,
   "metadata": {},
   "outputs": [
    {
     "name": "stdout",
     "output_type": "stream",
     "text": [
      "0.8961986933008221\n",
      "0.9127841265854577\n"
     ]
    }
   ],
   "source": [
    "print(rf.score(test_features, test_class))\n",
    "print(rf.score(val_features, val_class))"
   ]
  },
  {
   "cell_type": "code",
   "execution_count": null,
   "metadata": {},
   "outputs": [],
   "source": [
    "def getAnswer(model, s_input):\n",
    "    ret = model.predict(hstack([char_vectorizer.transform([s_input]),word_vectorizer.transform([s_input])]))"
   ]
  },
  {
   "cell_type": "code",
   "execution_count": null,
   "metadata": {},
   "outputs": [],
   "source": [
    "print(getAnswer(rf, \"Fuck you bitch!!\"))"
   ]
  },
  {
   "cell_type": "code",
   "execution_count": null,
   "metadata": {},
   "outputs": [],
   "source": []
  }
 ],
 "metadata": {
  "kernelspec": {
   "display_name": "Python 3",
   "language": "python",
   "name": "python3"
  },
  "language_info": {
   "codemirror_mode": {
    "name": "ipython",
    "version": 3
   },
   "file_extension": ".py",
   "mimetype": "text/x-python",
   "name": "python",
   "nbconvert_exporter": "python",
   "pygments_lexer": "ipython3",
   "version": "3.7.2"
  }
 },
 "nbformat": 4,
 "nbformat_minor": 2
}
